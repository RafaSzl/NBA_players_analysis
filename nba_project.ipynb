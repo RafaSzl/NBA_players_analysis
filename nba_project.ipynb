{
 "cells": [
  {
   "cell_type": "code",
   "execution_count": 33,
   "id": "9e037aeb",
   "metadata": {},
   "outputs": [],
   "source": [
    "import numpy as np\n",
    "import pandas as pd\n",
    "import matplotlib.pyplot as plt\n",
    "import seaborn as sns"
   ]
  },
  {
   "cell_type": "code",
   "execution_count": 34,
   "id": "11c3b2cf",
   "metadata": {},
   "outputs": [],
   "source": [
    "df = pd.read_csv('all_seasons_working.csv')"
   ]
  },
  {
   "cell_type": "code",
   "execution_count": 35,
   "id": "81411116",
   "metadata": {},
   "outputs": [],
   "source": [
    "# Is there a relationship between usg_pct spend and draft_number?\n",
    "\n",
    "# changing 'draft number' column from object type to int type \n",
    "df.draft_number = pd.to_numeric(df.draft_number, errors='coerce').fillna(0).astype(np.int64)\n",
    "# saving undrafted players in anorher dataframe\n",
    "df_with_undrafted = df[df['draft_number'] == 0]\n",
    "# dropping undrafted players from df\n",
    "df_only_drafted_players = df.drop(index=df_with_undrafted.index)\n",
    "# group by name\n",
    "drafted_players_grouped = df_only_drafted_players.groupby('player_name').mean()"
   ]
  },
  {
   "cell_type": "code",
   "execution_count": 36,
   "id": "e18b1d87",
   "metadata": {},
   "outputs": [
    {
     "name": "stdout",
     "output_type": "stream",
     "text": [
      "                      Unnamed: 0        age  player_height  player_weight  \\\n",
      "player_name                                                                 \n",
      "A.C. Green           1114.400000  35.000000         205.74     102.058200   \n",
      "A.J. Bramlett        1711.000000  23.000000         208.28     102.965384   \n",
      "A.J. Guyton          2524.333333  24.000000         185.42      81.646560   \n",
      "AJ Hammons           9404.000000  24.000000         213.36     117.933920   \n",
      "AJ Price             7113.833333  25.500000         187.96      84.821704   \n",
      "...                          ...        ...            ...            ...   \n",
      "Zhaire Smith        10809.000000  20.500000         191.77      91.625584   \n",
      "Zhou Qi             10338.000000  22.500000         215.90      95.254320   \n",
      "Zion Williamson     11075.000000  19.500000         199.39     128.820128   \n",
      "Zoran Planinic       3731.333333  22.000000         200.66      89.962413   \n",
      "Zydrunas Ilgauskas   3742.384615  29.846154         220.98     117.933920   \n",
      "\n",
      "                           gp        pts       reb       ast  net_rating  \\\n",
      "player_name                                                                \n",
      "A.C. Green          75.800000   5.780000  6.060000  0.860000   -1.880000   \n",
      "A.J. Bramlett        8.000000   1.000000  2.800000  0.000000  -32.600000   \n",
      "A.J. Guyton         26.666667   3.800000  0.700000  1.566667   -6.700000   \n",
      "AJ Hammons          22.000000   2.200000  1.600000  0.200000   -0.600000   \n",
      "AJ Price            43.500000   5.350000  1.333333  2.000000   -2.233333   \n",
      "...                       ...        ...       ...       ...         ...   \n",
      "Zhaire Smith         6.500000   3.900000  1.250000  1.000000   -2.500000   \n",
      "Zhou Qi              9.500000   1.600000  0.600000  0.050000  -46.400000   \n",
      "Zion Williamson     42.500000  24.750000  6.750000  2.900000    3.600000   \n",
      "Zoran Planinic      49.333333   3.833333  1.333333  1.100000   -6.233333   \n",
      "Zydrunas Ilgauskas  64.846154  12.938462  7.338462  1.092308    2.107692   \n",
      "\n",
      "                    oreb_pct  dreb_pct   usg_pct    ts_pct   ast_pct  \n",
      "player_name                                                           \n",
      "A.C. Green          0.093000  0.186400  0.127400  0.486800  0.054000  \n",
      "A.J. Bramlett       0.158000  0.208000  0.146000  0.190000  0.000000  \n",
      "A.J. Guyton         0.013333  0.040000  0.224000  0.324000  0.282000  \n",
      "AJ Hammons          0.049000  0.199000  0.167000  0.472000  0.038000  \n",
      "AJ Price            0.017667  0.090833  0.210667  0.476500  0.248833  \n",
      "...                      ...       ...       ...       ...       ...  \n",
      "Zhaire Smith        0.014000  0.083500  0.165500  0.423000  0.092000  \n",
      "Zhou Qi             0.021000  0.058000  0.248000  0.647500  0.014000  \n",
      "Zion Williamson     0.086500  0.122500  0.289000  0.632500  0.153500  \n",
      "Zoran Planinic      0.036000  0.118333  0.211000  0.492000  0.212667  \n",
      "Zydrunas Ilgauskas  0.124538  0.191000  0.229923  0.531308  0.069385  \n",
      "\n",
      "[1644 rows x 14 columns]\n",
      "player_name\n",
      "A.C. Green            0.127400\n",
      "A.J. Bramlett         0.146000\n",
      "A.J. Guyton           0.224000\n",
      "AJ Hammons            0.167000\n",
      "AJ Price              0.210667\n",
      "                        ...   \n",
      "Zhaire Smith          0.165500\n",
      "Zhou Qi               0.248000\n",
      "Zion Williamson       0.289000\n",
      "Zoran Planinic        0.211000\n",
      "Zydrunas Ilgauskas    0.229923\n",
      "Name: usg_pct, Length: 1644, dtype: float64\n"
     ]
    }
   ],
   "source": [
    "# separate into features and labels so we will create 2 matrixes\n",
    "# features - remaining columns that are not your label column\n",
    "X = drafted_players_grouped.drop('draft_number', axis=1)\n",
    "print(X)\n",
    "# label column\n",
    "y = drafted_players_grouped['usg_pct']\n",
    "print(y)\n",
    "\n",
    "from sklearn.model_selection import train_test_split\n",
    "\n",
    "# separates the features (x) and later labels (y) - do not change the order of unpacking\n",
    "# test size - what percentage of data should go to the test set (around 30 percent)\n",
    "# random_state - controls the shuffling of the data\n",
    "X_train, X_test, y_train, y_test = train_test_split(X, y, test_size=0.3, random_state=101)"
   ]
  },
  {
   "cell_type": "code",
   "execution_count": 37,
   "id": "5ff1c6f9",
   "metadata": {},
   "outputs": [
    {
     "data": {
      "text/html": [
       "<div>\n",
       "<style scoped>\n",
       "    .dataframe tbody tr th:only-of-type {\n",
       "        vertical-align: middle;\n",
       "    }\n",
       "\n",
       "    .dataframe tbody tr th {\n",
       "        vertical-align: top;\n",
       "    }\n",
       "\n",
       "    .dataframe thead th {\n",
       "        text-align: right;\n",
       "    }\n",
       "</style>\n",
       "<table border=\"1\" class=\"dataframe\">\n",
       "  <thead>\n",
       "    <tr style=\"text-align: right;\">\n",
       "      <th></th>\n",
       "      <th>Unnamed: 0</th>\n",
       "      <th>age</th>\n",
       "      <th>player_height</th>\n",
       "      <th>player_weight</th>\n",
       "      <th>gp</th>\n",
       "      <th>pts</th>\n",
       "      <th>reb</th>\n",
       "      <th>ast</th>\n",
       "      <th>net_rating</th>\n",
       "      <th>oreb_pct</th>\n",
       "      <th>dreb_pct</th>\n",
       "      <th>usg_pct</th>\n",
       "      <th>ts_pct</th>\n",
       "      <th>ast_pct</th>\n",
       "    </tr>\n",
       "    <tr>\n",
       "      <th>player_name</th>\n",
       "      <th></th>\n",
       "      <th></th>\n",
       "      <th></th>\n",
       "      <th></th>\n",
       "      <th></th>\n",
       "      <th></th>\n",
       "      <th></th>\n",
       "      <th></th>\n",
       "      <th></th>\n",
       "      <th></th>\n",
       "      <th></th>\n",
       "      <th></th>\n",
       "      <th></th>\n",
       "      <th></th>\n",
       "    </tr>\n",
       "  </thead>\n",
       "  <tbody>\n",
       "    <tr>\n",
       "      <th>James Robinson</th>\n",
       "      <td>1004.750000</td>\n",
       "      <td>27.750000</td>\n",
       "      <td>187.960000</td>\n",
       "      <td>81.646560</td>\n",
       "      <td>44.000000</td>\n",
       "      <td>5.900000</td>\n",
       "      <td>1.625000</td>\n",
       "      <td>1.375000</td>\n",
       "      <td>-5.625000</td>\n",
       "      <td>0.022750</td>\n",
       "      <td>0.118500</td>\n",
       "      <td>0.196000</td>\n",
       "      <td>0.484250</td>\n",
       "      <td>0.140250</td>\n",
       "    </tr>\n",
       "    <tr>\n",
       "      <th>LaSalle Thompson</th>\n",
       "      <td>93.000000</td>\n",
       "      <td>36.000000</td>\n",
       "      <td>208.280000</td>\n",
       "      <td>111.130040</td>\n",
       "      <td>26.000000</td>\n",
       "      <td>0.400000</td>\n",
       "      <td>1.300000</td>\n",
       "      <td>0.100000</td>\n",
       "      <td>-12.800000</td>\n",
       "      <td>0.062000</td>\n",
       "      <td>0.205000</td>\n",
       "      <td>0.098000</td>\n",
       "      <td>0.231000</td>\n",
       "      <td>0.024000</td>\n",
       "    </tr>\n",
       "    <tr>\n",
       "      <th>Randy Brown</th>\n",
       "      <td>1500.571429</td>\n",
       "      <td>32.000000</td>\n",
       "      <td>187.960000</td>\n",
       "      <td>86.376877</td>\n",
       "      <td>46.857143</td>\n",
       "      <td>4.200000</td>\n",
       "      <td>1.600000</td>\n",
       "      <td>2.442857</td>\n",
       "      <td>-6.614286</td>\n",
       "      <td>0.020857</td>\n",
       "      <td>0.075571</td>\n",
       "      <td>0.140571</td>\n",
       "      <td>0.375000</td>\n",
       "      <td>0.325857</td>\n",
       "    </tr>\n",
       "    <tr>\n",
       "      <th>Nenad Krstic</th>\n",
       "      <td>4998.428571</td>\n",
       "      <td>24.000000</td>\n",
       "      <td>213.360000</td>\n",
       "      <td>110.158057</td>\n",
       "      <td>59.857143</td>\n",
       "      <td>10.385714</td>\n",
       "      <td>5.442857</td>\n",
       "      <td>0.885714</td>\n",
       "      <td>0.014286</td>\n",
       "      <td>0.082000</td>\n",
       "      <td>0.170286</td>\n",
       "      <td>0.196857</td>\n",
       "      <td>0.527571</td>\n",
       "      <td>0.057714</td>\n",
       "    </tr>\n",
       "    <tr>\n",
       "      <th>Willy Hernangomez</th>\n",
       "      <td>10449.400000</td>\n",
       "      <td>25.000000</td>\n",
       "      <td>210.820000</td>\n",
       "      <td>110.676448</td>\n",
       "      <td>51.200000</td>\n",
       "      <td>6.900000</td>\n",
       "      <td>5.520000</td>\n",
       "      <td>1.000000</td>\n",
       "      <td>-2.300000</td>\n",
       "      <td>0.125200</td>\n",
       "      <td>0.248200</td>\n",
       "      <td>0.199800</td>\n",
       "      <td>0.584400</td>\n",
       "      <td>0.111000</td>\n",
       "    </tr>\n",
       "    <tr>\n",
       "      <th>...</th>\n",
       "      <td>...</td>\n",
       "      <td>...</td>\n",
       "      <td>...</td>\n",
       "      <td>...</td>\n",
       "      <td>...</td>\n",
       "      <td>...</td>\n",
       "      <td>...</td>\n",
       "      <td>...</td>\n",
       "      <td>...</td>\n",
       "      <td>...</td>\n",
       "      <td>...</td>\n",
       "      <td>...</td>\n",
       "      <td>...</td>\n",
       "      <td>...</td>\n",
       "    </tr>\n",
       "    <tr>\n",
       "      <th>Justin Patton</th>\n",
       "      <td>10716.750000</td>\n",
       "      <td>22.500000</td>\n",
       "      <td>212.090000</td>\n",
       "      <td>108.748682</td>\n",
       "      <td>5.500000</td>\n",
       "      <td>2.725000</td>\n",
       "      <td>1.700000</td>\n",
       "      <td>0.625000</td>\n",
       "      <td>-7.250000</td>\n",
       "      <td>0.038500</td>\n",
       "      <td>0.122500</td>\n",
       "      <td>0.165500</td>\n",
       "      <td>0.438750</td>\n",
       "      <td>0.111250</td>\n",
       "    </tr>\n",
       "    <tr>\n",
       "      <th>Keita Bates-Diop</th>\n",
       "      <td>10965.333333</td>\n",
       "      <td>24.000000</td>\n",
       "      <td>204.046667</td>\n",
       "      <td>103.872568</td>\n",
       "      <td>34.666667</td>\n",
       "      <td>4.700000</td>\n",
       "      <td>2.433333</td>\n",
       "      <td>0.566667</td>\n",
       "      <td>-7.800000</td>\n",
       "      <td>0.032000</td>\n",
       "      <td>0.138000</td>\n",
       "      <td>0.146667</td>\n",
       "      <td>0.515333</td>\n",
       "      <td>0.062000</td>\n",
       "    </tr>\n",
       "    <tr>\n",
       "      <th>Orlando Johnson</th>\n",
       "      <td>7922.666667</td>\n",
       "      <td>25.333333</td>\n",
       "      <td>195.580000</td>\n",
       "      <td>99.790240</td>\n",
       "      <td>34.333333</td>\n",
       "      <td>3.300000</td>\n",
       "      <td>1.833333</td>\n",
       "      <td>0.533333</td>\n",
       "      <td>-6.400000</td>\n",
       "      <td>0.033000</td>\n",
       "      <td>0.142667</td>\n",
       "      <td>0.166000</td>\n",
       "      <td>0.423667</td>\n",
       "      <td>0.084333</td>\n",
       "    </tr>\n",
       "    <tr>\n",
       "      <th>Solomon Alabi</th>\n",
       "      <td>6695.500000</td>\n",
       "      <td>23.500000</td>\n",
       "      <td>215.900000</td>\n",
       "      <td>114.078388</td>\n",
       "      <td>13.000000</td>\n",
       "      <td>1.450000</td>\n",
       "      <td>2.300000</td>\n",
       "      <td>0.200000</td>\n",
       "      <td>-8.150000</td>\n",
       "      <td>0.129000</td>\n",
       "      <td>0.192500</td>\n",
       "      <td>0.153500</td>\n",
       "      <td>0.303500</td>\n",
       "      <td>0.046000</td>\n",
       "    </tr>\n",
       "    <tr>\n",
       "      <th>Stanley Johnson</th>\n",
       "      <td>10132.166667</td>\n",
       "      <td>22.500000</td>\n",
       "      <td>199.813333</td>\n",
       "      <td>110.676448</td>\n",
       "      <td>61.833333</td>\n",
       "      <td>5.816667</td>\n",
       "      <td>2.950000</td>\n",
       "      <td>1.366667</td>\n",
       "      <td>-2.283333</td>\n",
       "      <td>0.029167</td>\n",
       "      <td>0.140500</td>\n",
       "      <td>0.172500</td>\n",
       "      <td>0.472333</td>\n",
       "      <td>0.125000</td>\n",
       "    </tr>\n",
       "  </tbody>\n",
       "</table>\n",
       "<p>494 rows × 14 columns</p>\n",
       "</div>"
      ],
      "text/plain": [
       "                     Unnamed: 0        age  player_height  player_weight  \\\n",
       "player_name                                                                \n",
       "James Robinson      1004.750000  27.750000     187.960000      81.646560   \n",
       "LaSalle Thompson      93.000000  36.000000     208.280000     111.130040   \n",
       "Randy Brown         1500.571429  32.000000     187.960000      86.376877   \n",
       "Nenad Krstic        4998.428571  24.000000     213.360000     110.158057   \n",
       "Willy Hernangomez  10449.400000  25.000000     210.820000     110.676448   \n",
       "...                         ...        ...            ...            ...   \n",
       "Justin Patton      10716.750000  22.500000     212.090000     108.748682   \n",
       "Keita Bates-Diop   10965.333333  24.000000     204.046667     103.872568   \n",
       "Orlando Johnson     7922.666667  25.333333     195.580000      99.790240   \n",
       "Solomon Alabi       6695.500000  23.500000     215.900000     114.078388   \n",
       "Stanley Johnson    10132.166667  22.500000     199.813333     110.676448   \n",
       "\n",
       "                          gp        pts       reb       ast  net_rating  \\\n",
       "player_name                                                               \n",
       "James Robinson     44.000000   5.900000  1.625000  1.375000   -5.625000   \n",
       "LaSalle Thompson   26.000000   0.400000  1.300000  0.100000  -12.800000   \n",
       "Randy Brown        46.857143   4.200000  1.600000  2.442857   -6.614286   \n",
       "Nenad Krstic       59.857143  10.385714  5.442857  0.885714    0.014286   \n",
       "Willy Hernangomez  51.200000   6.900000  5.520000  1.000000   -2.300000   \n",
       "...                      ...        ...       ...       ...         ...   \n",
       "Justin Patton       5.500000   2.725000  1.700000  0.625000   -7.250000   \n",
       "Keita Bates-Diop   34.666667   4.700000  2.433333  0.566667   -7.800000   \n",
       "Orlando Johnson    34.333333   3.300000  1.833333  0.533333   -6.400000   \n",
       "Solomon Alabi      13.000000   1.450000  2.300000  0.200000   -8.150000   \n",
       "Stanley Johnson    61.833333   5.816667  2.950000  1.366667   -2.283333   \n",
       "\n",
       "                   oreb_pct  dreb_pct   usg_pct    ts_pct   ast_pct  \n",
       "player_name                                                          \n",
       "James Robinson     0.022750  0.118500  0.196000  0.484250  0.140250  \n",
       "LaSalle Thompson   0.062000  0.205000  0.098000  0.231000  0.024000  \n",
       "Randy Brown        0.020857  0.075571  0.140571  0.375000  0.325857  \n",
       "Nenad Krstic       0.082000  0.170286  0.196857  0.527571  0.057714  \n",
       "Willy Hernangomez  0.125200  0.248200  0.199800  0.584400  0.111000  \n",
       "...                     ...       ...       ...       ...       ...  \n",
       "Justin Patton      0.038500  0.122500  0.165500  0.438750  0.111250  \n",
       "Keita Bates-Diop   0.032000  0.138000  0.146667  0.515333  0.062000  \n",
       "Orlando Johnson    0.033000  0.142667  0.166000  0.423667  0.084333  \n",
       "Solomon Alabi      0.129000  0.192500  0.153500  0.303500  0.046000  \n",
       "Stanley Johnson    0.029167  0.140500  0.172500  0.472333  0.125000  \n",
       "\n",
       "[494 rows x 14 columns]"
      ]
     },
     "execution_count": 37,
     "metadata": {},
     "output_type": "execute_result"
    }
   ],
   "source": [
    "X_test"
   ]
  },
  {
   "cell_type": "code",
   "execution_count": 32,
   "id": "6b05f6e0",
   "metadata": {},
   "outputs": [],
   "source": [
    "# help(train_test_split)"
   ]
  },
  {
   "cell_type": "code",
   "execution_count": 38,
   "id": "bd96b500",
   "metadata": {},
   "outputs": [],
   "source": [
    "# creating an estimator within Sklearn\n",
    "from sklearn.linear_model import LinearRegression"
   ]
  },
  {
   "cell_type": "code",
   "execution_count": 40,
   "id": "377293bb",
   "metadata": {},
   "outputs": [],
   "source": [
    "# read, look up to hyperparameters ( parameters to adjust for better performance)\n",
    "# help(LinearRegression)"
   ]
  },
  {
   "cell_type": "code",
   "execution_count": 41,
   "id": "f4b8e9ce",
   "metadata": {},
   "outputs": [],
   "source": [
    "# first time use default and check default performance, after that change parameters/hyperparameters\n",
    "# it creates and instance of linear regression model\n",
    "# (model will 'learn' the beta coefficients for the best fitting line. \n",
    "# we did not tell the computer what those Beta coeffcient values were, it learned those through gradient descent)\n",
    "model = LinearRegression()"
   ]
  },
  {
   "cell_type": "code",
   "execution_count": 42,
   "id": "232083d7",
   "metadata": {},
   "outputs": [
    {
     "data": {
      "text/plain": [
       "LinearRegression()"
      ]
     },
     "execution_count": 42,
     "metadata": {},
     "output_type": "execute_result"
    }
   ],
   "source": [
    "# now this 'model' instance is waiting for data to be trained on\n",
    "# we do it by calling fir method on model\n",
    "model.fit(X_train,y_train)"
   ]
  },
  {
   "cell_type": "code",
   "execution_count": 74,
   "id": "e95cc569",
   "metadata": {},
   "outputs": [
    {
     "name": "stdout",
     "output_type": "stream",
     "text": [
      "0.1841057750365237\n",
      "6.861749199961728e-17\n"
     ]
    }
   ],
   "source": [
    "# now we want to predict on test features and compare with y_test\n",
    "test_predictions = model.predict(X_test)\n",
    "\n",
    "# compare test predictions with y_test values (true values for X_test features)\n",
    "from sklearn.metrics import mean_absolute_error, mean_squared_error\n",
    "\n",
    "# checking the mean value of usg_pct column \n",
    "mean_val = drafted_players_grouped['usg_pct'].mean()\n",
    "print(mean_val)\n",
    "\n",
    "# checking the mean absolute error\n",
    "mean_abs_err = mean_absolute_error(y_test, test_predictions)\n",
    "print(mean_abs_err)\n",
    "# in comparison to avg value, mean absolute error is off by less than 1%"
   ]
  },
  {
   "cell_type": "code",
   "execution_count": 76,
   "id": "725d496c",
   "metadata": {},
   "outputs": [
    {
     "name": "stdout",
     "output_type": "stream",
     "text": [
      "8.046822166846107e-33\n",
      "8.970408110474187e-17\n"
     ]
    }
   ],
   "source": [
    "# checking the mean squared error\n",
    "mean_sqr_err = mean_squared_error(y_test, test_predictions)\n",
    "print(mean_sqr_err)\n",
    "\n",
    "# to compare with mean_val we need to use sqrt func on mean_sqr_err\n",
    "# checking the root mean squared error\n",
    "root_mean_sqrt_err = np.sqrt(mean_sqr_err)\n",
    "print(root_mean_sqrt_err)"
   ]
  },
  {
   "cell_type": "code",
   "execution_count": 88,
   "id": "9c3fd14a",
   "metadata": {},
   "outputs": [
    {
     "data": {
      "text/plain": [
       "<matplotlib.lines.Line2D at 0x25f56f87e50>"
      ]
     },
     "execution_count": 88,
     "metadata": {},
     "output_type": "execute_result"
    },
    {
     "data": {
      "image/png": "[encoded data removed]",
      "text/plain": [
       "<Figure size 2160x1440 with 1 Axes>"
      ]
     },
     "metadata": {
      "needs_background": "light"
     },
     "output_type": "display_data"
    }
   ],
   "source": [
    "test_residuals = y_test - test_predictions\n",
    "test_residuals\n",
    "fig = plt.gcf()\n",
    "fig.set_size_inches(30, 20)\n",
    "# checking if using linear regression is fine, the data below should be distributed randomly\n",
    "# if its not we should consider not using linear regression\n",
    "sns.scatterplot(x=y_test, y=test_residuals)\n",
    "plt.axhline(y=0, color='red', ls='--')"
   ]
  },
  {
   "cell_type": "code",
   "execution_count": 86,
   "id": "26e8f2ad",
   "metadata": {},
   "outputs": [
    {
     "data": {
      "text/plain": [
       "<seaborn.axisgrid.FacetGrid at 0x25f56e6af10>"
      ]
     },
     "execution_count": 86,
     "metadata": {},
     "output_type": "execute_result"
    },
    {
     "data": {
      "image/png": "[encoded data removed]",
      "text/plain": [
       "<Figure size 360x360 with 1 Axes>"
      ]
     },
     "metadata": {
      "needs_background": "light"
     },
     "output_type": "display_data"
    }
   ],
   "source": [
    "# check if distribution is normal\n",
    "sns.displot(test_residuals, bins=25, kde=True)"
   ]
  },
  {
   "cell_type": "code",
   "execution_count": null,
   "id": "2158b53d",
   "metadata": {},
   "outputs": [],
   "source": [
    "import scipy as sp"
   ]
  },
  {
   "cell_type": "code",
   "execution_count": null,
   "id": "c1529472",
   "metadata": {},
   "outputs": [],
   "source": []
  },
  {
   "cell_type": "code",
   "execution_count": null,
   "id": "77aa7b0a",
   "metadata": {},
   "outputs": [],
   "source": []
  },
  {
   "cell_type": "code",
   "execution_count": null,
   "id": "f8bee177",
   "metadata": {},
   "outputs": [],
   "source": []
  },
  {
   "cell_type": "code",
   "execution_count": null,
   "id": "7ac26e6e",
   "metadata": {},
   "outputs": [],
   "source": []
  },
  {
   "cell_type": "code",
   "execution_count": null,
   "id": "b82b5ac1",
   "metadata": {},
   "outputs": [],
   "source": []
  },
  {
   "cell_type": "code",
   "execution_count": null,
   "id": "8fccbab1",
   "metadata": {},
   "outputs": [],
   "source": []
  },
  {
   "cell_type": "code",
   "execution_count": null,
   "id": "abc6c90d",
   "metadata": {
    "scrolled": true
   },
   "outputs": [],
   "source": []
  },
  {
   "cell_type": "code",
   "execution_count": null,
   "id": "e48b6c17",
   "metadata": {},
   "outputs": [],
   "source": []
  },
  {
   "cell_type": "code",
   "execution_count": null,
   "id": "4991a91d",
   "metadata": {},
   "outputs": [],
   "source": []
  },
  {
   "cell_type": "code",
   "execution_count": null,
   "id": "6be2ce03",
   "metadata": {},
   "outputs": [],
   "source": []
  },
  {
   "cell_type": "code",
   "execution_count": null,
   "id": "c88126a9",
   "metadata": {},
   "outputs": [],
   "source": []
  },
  {
   "cell_type": "code",
   "execution_count": null,
   "id": "dacd4baa",
   "metadata": {},
   "outputs": [],
   "source": []
  },
  {
   "cell_type": "code",
   "execution_count": null,
   "id": "b01eab47",
   "metadata": {},
   "outputs": [],
   "source": []
  },
  {
   "cell_type": "code",
   "execution_count": null,
   "id": "bd69b0cc",
   "metadata": {},
   "outputs": [],
   "source": []
  },
  {
   "cell_type": "code",
   "execution_count": null,
   "id": "81fffd27",
   "metadata": {},
   "outputs": [],
   "source": []
  },
  {
   "cell_type": "code",
   "execution_count": null,
   "id": "44be06c1",
   "metadata": {},
   "outputs": [],
   "source": []
  },
  {
   "cell_type": "code",
   "execution_count": null,
   "id": "0a165b81",
   "metadata": {},
   "outputs": [],
   "source": []
  },
  {
   "cell_type": "code",
   "execution_count": null,
   "id": "afa3e483",
   "metadata": {},
   "outputs": [],
   "source": []
  },
  {
   "cell_type": "code",
   "execution_count": null,
   "id": "601e57c8",
   "metadata": {},
   "outputs": [],
   "source": []
  },
  {
   "cell_type": "code",
   "execution_count": null,
   "id": "cd838f56",
   "metadata": {},
   "outputs": [],
   "source": []
  },
  {
   "cell_type": "code",
   "execution_count": null,
   "id": "35e070b3",
   "metadata": {},
   "outputs": [],
   "source": []
  },
  {
   "cell_type": "code",
   "execution_count": null,
   "id": "c12b7fc2",
   "metadata": {},
   "outputs": [],
   "source": []
  },
  {
   "cell_type": "code",
   "execution_count": null,
   "id": "d4f84aa5",
   "metadata": {},
   "outputs": [],
   "source": []
  },
  {
   "cell_type": "code",
   "execution_count": null,
   "id": "60ec833d",
   "metadata": {},
   "outputs": [],
   "source": []
  }
 ],
 "metadata": {
  "kernelspec": {
   "display_name": "Python 3",
   "language": "python",
   "name": "python3"
  },
  "language_info": {
   "codemirror_mode": {
    "name": "ipython",
    "version": 3
   },
   "file_extension": ".py",
   "mimetype": "text/x-python",
   "name": "python",
   "nbconvert_exporter": "python",
   "pygments_lexer": "ipython3",
   "version": "3.8.8"
  }
 },
 "nbformat": 4,
 "nbformat_minor": 5
}
