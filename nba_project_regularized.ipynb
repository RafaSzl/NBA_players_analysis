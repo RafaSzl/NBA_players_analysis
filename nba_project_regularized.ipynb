{
 "cells": [
  {
   "cell_type": "code",
   "execution_count": 1,
   "id": "0a0f30f4",
   "metadata": {},
   "outputs": [],
   "source": [
    "import numpy as np\n",
    "import pandas as pd\n",
    "import matplotlib.pyplot as plt\n",
    "import seaborn as sns\n",
    "from sklearn.metrics import mean_absolute_error, mean_squared_error"
   ]
  },
  {
   "cell_type": "code",
   "execution_count": 2,
   "id": "7a70a005",
   "metadata": {},
   "outputs": [],
   "source": [
    "pd.set_option('display.max_columns', None)\n",
    "df = pd.read_csv('all_seasons_working.csv')"
   ]
  },
  {
   "cell_type": "markdown",
   "id": "d336a87e",
   "metadata": {},
   "source": [
    "DATA CLEANING AND DEALING WITH OUTLIERS"
   ]
  },
  {
   "cell_type": "code",
   "execution_count": 3,
   "id": "b73201ef",
   "metadata": {},
   "outputs": [
    {
     "data": {
      "text/html": [
       "<div>\n",
       "<style scoped>\n",
       "    .dataframe tbody tr th:only-of-type {\n",
       "        vertical-align: middle;\n",
       "    }\n",
       "\n",
       "    .dataframe tbody tr th {\n",
       "        vertical-align: top;\n",
       "    }\n",
       "\n",
       "    .dataframe thead th {\n",
       "        text-align: right;\n",
       "    }\n",
       "</style>\n",
       "<table border=\"1\" class=\"dataframe\">\n",
       "  <thead>\n",
       "    <tr style=\"text-align: right;\">\n",
       "      <th></th>\n",
       "      <th>Unnamed: 0</th>\n",
       "      <th>age</th>\n",
       "      <th>player_height</th>\n",
       "      <th>player_weight</th>\n",
       "      <th>draft_number</th>\n",
       "      <th>gp</th>\n",
       "      <th>pts</th>\n",
       "      <th>reb</th>\n",
       "      <th>ast</th>\n",
       "      <th>net_rating</th>\n",
       "      <th>oreb_pct</th>\n",
       "      <th>dreb_pct</th>\n",
       "      <th>usg_pct</th>\n",
       "      <th>ts_pct</th>\n",
       "      <th>ast_pct</th>\n",
       "    </tr>\n",
       "    <tr>\n",
       "      <th>player_name</th>\n",
       "      <th></th>\n",
       "      <th></th>\n",
       "      <th></th>\n",
       "      <th></th>\n",
       "      <th></th>\n",
       "      <th></th>\n",
       "      <th></th>\n",
       "      <th></th>\n",
       "      <th></th>\n",
       "      <th></th>\n",
       "      <th></th>\n",
       "      <th></th>\n",
       "      <th></th>\n",
       "      <th></th>\n",
       "      <th></th>\n",
       "    </tr>\n",
       "  </thead>\n",
       "  <tbody>\n",
       "    <tr>\n",
       "      <th>A.C. Green</th>\n",
       "      <td>1114.400000</td>\n",
       "      <td>35.000000</td>\n",
       "      <td>205.740000</td>\n",
       "      <td>102.058200</td>\n",
       "      <td>23.0</td>\n",
       "      <td>75.800000</td>\n",
       "      <td>5.780000</td>\n",
       "      <td>6.060000</td>\n",
       "      <td>0.860000</td>\n",
       "      <td>-1.880000</td>\n",
       "      <td>0.093000</td>\n",
       "      <td>0.186400</td>\n",
       "      <td>0.127400</td>\n",
       "      <td>0.486800</td>\n",
       "      <td>0.054000</td>\n",
       "    </tr>\n",
       "    <tr>\n",
       "      <th>AJ Price</th>\n",
       "      <td>7113.833333</td>\n",
       "      <td>25.500000</td>\n",
       "      <td>187.960000</td>\n",
       "      <td>84.821704</td>\n",
       "      <td>52.0</td>\n",
       "      <td>43.500000</td>\n",
       "      <td>5.350000</td>\n",
       "      <td>1.333333</td>\n",
       "      <td>2.000000</td>\n",
       "      <td>-2.233333</td>\n",
       "      <td>0.017667</td>\n",
       "      <td>0.090833</td>\n",
       "      <td>0.210667</td>\n",
       "      <td>0.476500</td>\n",
       "      <td>0.248833</td>\n",
       "    </tr>\n",
       "    <tr>\n",
       "      <th>Aaron Brooks</th>\n",
       "      <td>7535.500000</td>\n",
       "      <td>28.100000</td>\n",
       "      <td>182.880000</td>\n",
       "      <td>73.028312</td>\n",
       "      <td>26.0</td>\n",
       "      <td>64.500000</td>\n",
       "      <td>8.880000</td>\n",
       "      <td>1.550000</td>\n",
       "      <td>2.760000</td>\n",
       "      <td>-3.310000</td>\n",
       "      <td>0.022700</td>\n",
       "      <td>0.069700</td>\n",
       "      <td>0.222200</td>\n",
       "      <td>0.521000</td>\n",
       "      <td>0.230700</td>\n",
       "    </tr>\n",
       "    <tr>\n",
       "      <th>Aaron Gordon</th>\n",
       "      <td>9931.857143</td>\n",
       "      <td>22.000000</td>\n",
       "      <td>205.014286</td>\n",
       "      <td>101.734206</td>\n",
       "      <td>4.0</td>\n",
       "      <td>64.714286</td>\n",
       "      <td>12.500000</td>\n",
       "      <td>6.271429</td>\n",
       "      <td>2.442857</td>\n",
       "      <td>-1.328571</td>\n",
       "      <td>0.057571</td>\n",
       "      <td>0.172714</td>\n",
       "      <td>0.198143</td>\n",
       "      <td>0.531286</td>\n",
       "      <td>0.124429</td>\n",
       "    </tr>\n",
       "    <tr>\n",
       "      <th>Aaron Holiday</th>\n",
       "      <td>10823.333333</td>\n",
       "      <td>23.000000</td>\n",
       "      <td>183.726667</td>\n",
       "      <td>83.914520</td>\n",
       "      <td>23.0</td>\n",
       "      <td>60.666667</td>\n",
       "      <td>7.533333</td>\n",
       "      <td>1.666667</td>\n",
       "      <td>2.333333</td>\n",
       "      <td>3.000000</td>\n",
       "      <td>0.011000</td>\n",
       "      <td>0.075000</td>\n",
       "      <td>0.192333</td>\n",
       "      <td>0.514000</td>\n",
       "      <td>0.169000</td>\n",
       "    </tr>\n",
       "    <tr>\n",
       "      <th>...</th>\n",
       "      <td>...</td>\n",
       "      <td>...</td>\n",
       "      <td>...</td>\n",
       "      <td>...</td>\n",
       "      <td>...</td>\n",
       "      <td>...</td>\n",
       "      <td>...</td>\n",
       "      <td>...</td>\n",
       "      <td>...</td>\n",
       "      <td>...</td>\n",
       "      <td>...</td>\n",
       "      <td>...</td>\n",
       "      <td>...</td>\n",
       "      <td>...</td>\n",
       "      <td>...</td>\n",
       "    </tr>\n",
       "    <tr>\n",
       "      <th>Zarko Cabarkapa</th>\n",
       "      <td>3730.000000</td>\n",
       "      <td>24.000000</td>\n",
       "      <td>210.820000</td>\n",
       "      <td>104.326160</td>\n",
       "      <td>17.0</td>\n",
       "      <td>50.000000</td>\n",
       "      <td>4.466667</td>\n",
       "      <td>2.133333</td>\n",
       "      <td>0.566667</td>\n",
       "      <td>-6.333333</td>\n",
       "      <td>0.071000</td>\n",
       "      <td>0.167667</td>\n",
       "      <td>0.218000</td>\n",
       "      <td>0.504000</td>\n",
       "      <td>0.094000</td>\n",
       "    </tr>\n",
       "    <tr>\n",
       "      <th>Zaza Pachulia</th>\n",
       "      <td>6762.375000</td>\n",
       "      <td>27.500000</td>\n",
       "      <td>210.820000</td>\n",
       "      <td>123.036830</td>\n",
       "      <td>42.0</td>\n",
       "      <td>68.625000</td>\n",
       "      <td>6.700000</td>\n",
       "      <td>5.743750</td>\n",
       "      <td>1.318750</td>\n",
       "      <td>0.350000</td>\n",
       "      <td>0.121500</td>\n",
       "      <td>0.206875</td>\n",
       "      <td>0.166312</td>\n",
       "      <td>0.540312</td>\n",
       "      <td>0.097812</td>\n",
       "    </tr>\n",
       "    <tr>\n",
       "      <th>Zeljko Rebraca</th>\n",
       "      <td>3239.200000</td>\n",
       "      <td>32.000000</td>\n",
       "      <td>213.360000</td>\n",
       "      <td>118.024638</td>\n",
       "      <td>54.0</td>\n",
       "      <td>43.000000</td>\n",
       "      <td>5.560000</td>\n",
       "      <td>2.960000</td>\n",
       "      <td>0.360000</td>\n",
       "      <td>-2.760000</td>\n",
       "      <td>0.074400</td>\n",
       "      <td>0.168600</td>\n",
       "      <td>0.184000</td>\n",
       "      <td>0.577200</td>\n",
       "      <td>0.044000</td>\n",
       "    </tr>\n",
       "    <tr>\n",
       "      <th>Zion Williamson</th>\n",
       "      <td>11075.000000</td>\n",
       "      <td>19.500000</td>\n",
       "      <td>199.390000</td>\n",
       "      <td>128.820128</td>\n",
       "      <td>1.0</td>\n",
       "      <td>42.500000</td>\n",
       "      <td>24.750000</td>\n",
       "      <td>6.750000</td>\n",
       "      <td>2.900000</td>\n",
       "      <td>3.600000</td>\n",
       "      <td>0.086500</td>\n",
       "      <td>0.122500</td>\n",
       "      <td>0.289000</td>\n",
       "      <td>0.632500</td>\n",
       "      <td>0.153500</td>\n",
       "    </tr>\n",
       "    <tr>\n",
       "      <th>Zydrunas Ilgauskas</th>\n",
       "      <td>3742.384615</td>\n",
       "      <td>29.846154</td>\n",
       "      <td>220.980000</td>\n",
       "      <td>117.933920</td>\n",
       "      <td>20.0</td>\n",
       "      <td>64.846154</td>\n",
       "      <td>12.938462</td>\n",
       "      <td>7.338462</td>\n",
       "      <td>1.092308</td>\n",
       "      <td>2.107692</td>\n",
       "      <td>0.124538</td>\n",
       "      <td>0.191000</td>\n",
       "      <td>0.229923</td>\n",
       "      <td>0.531308</td>\n",
       "      <td>0.069385</td>\n",
       "    </tr>\n",
       "  </tbody>\n",
       "</table>\n",
       "<p>950 rows × 15 columns</p>\n",
       "</div>"
      ],
      "text/plain": [
       "                      Unnamed: 0        age  player_height  player_weight  \\\n",
       "player_name                                                                 \n",
       "A.C. Green           1114.400000  35.000000     205.740000     102.058200   \n",
       "AJ Price             7113.833333  25.500000     187.960000      84.821704   \n",
       "Aaron Brooks         7535.500000  28.100000     182.880000      73.028312   \n",
       "Aaron Gordon         9931.857143  22.000000     205.014286     101.734206   \n",
       "Aaron Holiday       10823.333333  23.000000     183.726667      83.914520   \n",
       "...                          ...        ...            ...            ...   \n",
       "Zarko Cabarkapa      3730.000000  24.000000     210.820000     104.326160   \n",
       "Zaza Pachulia        6762.375000  27.500000     210.820000     123.036830   \n",
       "Zeljko Rebraca       3239.200000  32.000000     213.360000     118.024638   \n",
       "Zion Williamson     11075.000000  19.500000     199.390000     128.820128   \n",
       "Zydrunas Ilgauskas   3742.384615  29.846154     220.980000     117.933920   \n",
       "\n",
       "                    draft_number         gp        pts       reb       ast  \\\n",
       "player_name                                                                  \n",
       "A.C. Green                  23.0  75.800000   5.780000  6.060000  0.860000   \n",
       "AJ Price                    52.0  43.500000   5.350000  1.333333  2.000000   \n",
       "Aaron Brooks                26.0  64.500000   8.880000  1.550000  2.760000   \n",
       "Aaron Gordon                 4.0  64.714286  12.500000  6.271429  2.442857   \n",
       "Aaron Holiday               23.0  60.666667   7.533333  1.666667  2.333333   \n",
       "...                          ...        ...        ...       ...       ...   \n",
       "Zarko Cabarkapa             17.0  50.000000   4.466667  2.133333  0.566667   \n",
       "Zaza Pachulia               42.0  68.625000   6.700000  5.743750  1.318750   \n",
       "Zeljko Rebraca              54.0  43.000000   5.560000  2.960000  0.360000   \n",
       "Zion Williamson              1.0  42.500000  24.750000  6.750000  2.900000   \n",
       "Zydrunas Ilgauskas          20.0  64.846154  12.938462  7.338462  1.092308   \n",
       "\n",
       "                    net_rating  oreb_pct  dreb_pct   usg_pct    ts_pct  \\\n",
       "player_name                                                              \n",
       "A.C. Green           -1.880000  0.093000  0.186400  0.127400  0.486800   \n",
       "AJ Price             -2.233333  0.017667  0.090833  0.210667  0.476500   \n",
       "Aaron Brooks         -3.310000  0.022700  0.069700  0.222200  0.521000   \n",
       "Aaron Gordon         -1.328571  0.057571  0.172714  0.198143  0.531286   \n",
       "Aaron Holiday         3.000000  0.011000  0.075000  0.192333  0.514000   \n",
       "...                        ...       ...       ...       ...       ...   \n",
       "Zarko Cabarkapa      -6.333333  0.071000  0.167667  0.218000  0.504000   \n",
       "Zaza Pachulia         0.350000  0.121500  0.206875  0.166312  0.540312   \n",
       "Zeljko Rebraca       -2.760000  0.074400  0.168600  0.184000  0.577200   \n",
       "Zion Williamson       3.600000  0.086500  0.122500  0.289000  0.632500   \n",
       "Zydrunas Ilgauskas    2.107692  0.124538  0.191000  0.229923  0.531308   \n",
       "\n",
       "                     ast_pct  \n",
       "player_name                   \n",
       "A.C. Green          0.054000  \n",
       "AJ Price            0.248833  \n",
       "Aaron Brooks        0.230700  \n",
       "Aaron Gordon        0.124429  \n",
       "Aaron Holiday       0.169000  \n",
       "...                      ...  \n",
       "Zarko Cabarkapa     0.094000  \n",
       "Zaza Pachulia       0.097812  \n",
       "Zeljko Rebraca      0.044000  \n",
       "Zion Williamson     0.153500  \n",
       "Zydrunas Ilgauskas  0.069385  \n",
       "\n",
       "[950 rows x 15 columns]"
      ]
     },
     "execution_count": 3,
     "metadata": {},
     "output_type": "execute_result"
    }
   ],
   "source": [
    "# changing 'draft number' column from object type to int type \n",
    "df.draft_number = pd.to_numeric(df.draft_number, errors='coerce').fillna(0).astype(np.int64)\n",
    "# # group by name\n",
    "mean_val_players = df.groupby('player_name').mean()\n",
    "# dropping players with draft number not in range(1, 61) (we want to base on new form of draft where max draft number is 60)\n",
    "\n",
    "drafted_players_grouped = mean_val_players[(mean_val_players['draft_number'] > 0) & (mean_val_players['draft_number'] < 61)]\n",
    "# choosing only players that have played decent amount of games during their careers (avg half a season \n",
    "# games played every year) and also choosing players that avg more than 5pts per game in a season \n",
    "# - this is due to lack of a column 'minutes played'. I want to avoid a situation where a player with \n",
    "# a lot of games played, was only 0-10 min on a court every game and his stats are lowered due to that. \n",
    "drafted_players_grouped = drafted_players_grouped[(drafted_players_grouped['gp'] > 41) & (drafted_players_grouped['pts'] > 4)]\n",
    "drafted_players_grouped"
   ]
  },
  {
   "cell_type": "code",
   "execution_count": 4,
   "id": "341daf5e",
   "metadata": {},
   "outputs": [
    {
     "data": {
      "text/plain": [
       "pts             -0.370210\n",
       "reb             -0.299325\n",
       "usg_pct         -0.287503\n",
       "ast             -0.186572\n",
       "dreb_pct        -0.160155\n",
       "player_height   -0.150038\n",
       "gp              -0.139522\n",
       "player_weight   -0.119477\n",
       "net_rating      -0.075380\n",
       "oreb_pct        -0.070711\n",
       "ast_pct         -0.062249\n",
       "ts_pct          -0.049719\n",
       "age             -0.002965\n",
       "Unnamed: 0       0.032050\n",
       "draft_number     1.000000\n",
       "Name: draft_number, dtype: float64"
      ]
     },
     "execution_count": 4,
     "metadata": {},
     "output_type": "execute_result"
    }
   ],
   "source": [
    "# I want to check correlation of draft_number with the rest of the features\n",
    "drafted_players_grouped.corr()['draft_number'].sort_values()"
   ]
  },
  {
   "cell_type": "code",
   "execution_count": 5,
   "id": "a28534d7",
   "metadata": {},
   "outputs": [],
   "source": [
    "X = drafted_players_grouped.drop(columns=['draft_number', 'age', 'gp', 'Unnamed: 0', 'player_height',\n",
    "                                          'player_weight'], axis=1)\n",
    "\n",
    "y = drafted_players_grouped['draft_number']"
   ]
  },
  {
   "cell_type": "code",
   "execution_count": 6,
   "id": "0d8dd818",
   "metadata": {},
   "outputs": [
    {
     "name": "stdout",
     "output_type": "stream",
     "text": [
      "[[ 5.78        6.06        0.86       ...  0.1274      0.4868\n",
      "   0.054     ]\n",
      " [ 5.35        1.33333333  2.         ...  0.21066667  0.4765\n",
      "   0.24883333]\n",
      " [ 8.88        1.55        2.76       ...  0.2222      0.521\n",
      "   0.2307    ]\n",
      " ...\n",
      " [ 5.56        2.96        0.36       ...  0.184       0.5772\n",
      "   0.044     ]\n",
      " [24.75        6.75        2.9        ...  0.289       0.6325\n",
      "   0.1535    ]\n",
      " [12.93846154  7.33846154  1.09230769 ...  0.22992308  0.53130769\n",
      "   0.06938462]]\n"
     ]
    }
   ],
   "source": [
    "from sklearn.preprocessing import PolynomialFeatures\n",
    "# degree - it will create x^2 plot and include_bias - it will create columns of 1\n",
    "# (the degree was changed to 1 due to smaller RMSE error - it will be shown below)\n",
    "polynomial_converter = PolynomialFeatures(degree=1, include_bias=False)\n",
    "poly_features = polynomial_converter.fit_transform(X)\n",
    "print(poly_features)"
   ]
  },
  {
   "cell_type": "code",
   "execution_count": 7,
   "id": "bf818913",
   "metadata": {},
   "outputs": [],
   "source": [
    "from sklearn.model_selection import train_test_split\n",
    "\n",
    "X_train, X_test, y_train, y_test = train_test_split(poly_features, y, test_size=0.3, random_state=101)"
   ]
  },
  {
   "cell_type": "markdown",
   "id": "0344c57e",
   "metadata": {},
   "source": [
    "CREATING SCALED FEATURES"
   ]
  },
  {
   "cell_type": "code",
   "execution_count": 8,
   "id": "57bc4c79",
   "metadata": {},
   "outputs": [],
   "source": [
    "from sklearn.preprocessing import StandardScaler\n",
    "from sklearn.preprocessing import MinMaxScaler\n",
    "\n",
    "# create inscance of scaler\n",
    "stan_scaler = StandardScaler()\n",
    "norm_scaler = MinMaxScaler()\n",
    "\n",
    "# fitting scaler to X_train\n",
    "stan_scaler.fit(X_train)\n",
    "norm_scaler.fit(X_train)\n",
    "\n",
    "# creating our data:\n",
    "# standarized features\n",
    "stan_X_train = stan_scaler.transform(X_train)\n",
    "stan_X_test = stan_scaler.transform(X_test)\n",
    "\n",
    "# normalized features\n",
    "norm_X_train = norm_scaler.transform(X_train)\n",
    "norm_X_test = norm_scaler.transform(X_test)\n",
    "\n",
    "# standarized and normalized features\n",
    "norm_stan_X_train = stan_scaler.transform(norm_X_train)\n",
    "norm_stan_X_test =stan_scaler.transform(norm_X_test)"
   ]
  },
  {
   "cell_type": "markdown",
   "id": "93c3c03c",
   "metadata": {},
   "source": [
    "RIDGE REGRESSION IMPLEMENTATION "
   ]
  },
  {
   "cell_type": "code",
   "execution_count": 9,
   "id": "f970ab12",
   "metadata": {},
   "outputs": [
    {
     "name": "stdout",
     "output_type": "stream",
     "text": [
      "150 \n",
      " 0.5 \n",
      " 0.1\n",
      "10.822063870951407 \n",
      " 10.699983879290082 \n",
      " 10.752759596768179\n",
      "13.48331860063137 \n",
      " 13.474237575432939 \n",
      " 13.52678547781084\n"
     ]
    }
   ],
   "source": [
    "# RidgeCV will perform cross-validation for variety of alpha hyperparameters\n",
    "from sklearn.linear_model import RidgeCV\n",
    "stan_ridge_cv_model = RidgeCV(alphas=(150, 200, 250, 280, 290, 300, 310, 320, 330, 350, 400, 450), \n",
    "                              cv=20, scoring='neg_root_mean_squared_error')\n",
    "norm_ridge_cv_model = RidgeCV(alphas=(0.1, 0.5, 1.0, 2.0, 3.0, 4.0, 5.0, 6.0, 7.0, 8.0, 9.0, 10.0), \n",
    "                              cv=20, scoring='neg_root_mean_squared_error')\n",
    "norm_stan_ridge_cv_model = RidgeCV(alphas=(0.1, 0.5, 1.0, 2.0, 3.0, 4.0, 5.0, 6.0, 7.0, 8.0, 9.0, 10.0), \n",
    "                                   cv=20, scoring='neg_root_mean_squared_error')\n",
    "\n",
    "# use it only on training set! Small portion of this set will be validation set for aplha parameters\n",
    "stan_ridge_cv_model.fit(stan_X_train, y_train)\n",
    "norm_ridge_cv_model.fit(norm_X_train, y_train)\n",
    "norm_stan_ridge_cv_model.fit(norm_stan_X_train, y_train)\n",
    "\n",
    "# here is displayed the best alpha parameter from the ones we choosed in 'alphas'\n",
    "print(stan_ridge_cv_model.alpha_, '\\n', norm_ridge_cv_model.alpha_, '\\n', norm_stan_ridge_cv_model.alpha_)\n",
    "\n",
    "stan_test_predictions = stan_ridge_cv_model.predict(stan_X_test)\n",
    "norm_test_predictions = norm_ridge_cv_model.predict(norm_X_test)\n",
    "norm_stan_test_predictions = norm_stan_ridge_cv_model.predict(norm_stan_X_test)\n",
    "\n",
    "stan_MAE = mean_absolute_error(y_test, stan_test_predictions)\n",
    "norm_MAE = mean_absolute_error(y_test, norm_test_predictions)\n",
    "norm_stan_MAE = mean_absolute_error(y_test, norm_stan_test_predictions)\n",
    "print(stan_MAE, '\\n', norm_MAE, '\\n', norm_stan_MAE)\n",
    "\n",
    "stan_RMSE = np.sqrt(mean_squared_error(y_test, stan_test_predictions))\n",
    "norm_RMSE = np.sqrt(mean_squared_error(y_test, norm_test_predictions))\n",
    "norm_stan_RMSE = np.sqrt(mean_squared_error(y_test, norm_stan_test_predictions))\n",
    "print(stan_RMSE, '\\n', norm_RMSE, '\\n', norm_stan_RMSE)"
   ]
  },
  {
   "cell_type": "code",
   "execution_count": 10,
   "id": "d97385a2",
   "metadata": {},
   "outputs": [
    {
     "data": {
      "text/plain": [
       "dict_keys(['explained_variance', 'r2', 'max_error', 'neg_median_absolute_error', 'neg_mean_absolute_error', 'neg_mean_absolute_percentage_error', 'neg_mean_squared_error', 'neg_mean_squared_log_error', 'neg_root_mean_squared_error', 'neg_mean_poisson_deviance', 'neg_mean_gamma_deviance', 'accuracy', 'top_k_accuracy', 'roc_auc', 'roc_auc_ovr', 'roc_auc_ovo', 'roc_auc_ovr_weighted', 'roc_auc_ovo_weighted', 'balanced_accuracy', 'average_precision', 'neg_log_loss', 'neg_brier_score', 'adjusted_rand_score', 'rand_score', 'homogeneity_score', 'completeness_score', 'v_measure_score', 'mutual_info_score', 'adjusted_mutual_info_score', 'normalized_mutual_info_score', 'fowlkes_mallows_score', 'precision', 'precision_macro', 'precision_micro', 'precision_samples', 'precision_weighted', 'recall', 'recall_macro', 'recall_micro', 'recall_samples', 'recall_weighted', 'f1', 'f1_macro', 'f1_micro', 'f1_samples', 'f1_weighted', 'jaccard', 'jaccard_macro', 'jaccard_micro', 'jaccard_samples', 'jaccard_weighted'])"
      ]
     },
     "execution_count": 10,
     "metadata": {},
     "output_type": "execute_result"
    }
   ],
   "source": [
    "# displays different errors that could be used as a scoring metrics. Every single one of them is \n",
    "# transformed: higher value -> better (thats why we got neg_ somewhere)\n",
    "# these errors are for any kind of models - not only for linear regression\n",
    "from sklearn.metrics import SCORERS\n",
    "SCORERS.keys()"
   ]
  },
  {
   "cell_type": "code",
   "execution_count": 11,
   "id": "cfcae528",
   "metadata": {},
   "outputs": [
    {
     "name": "stdout",
     "output_type": "stream",
     "text": [
      "[-2.66907814 -1.87624502 -1.35765184  0.66442023  0.15043018 -0.94535151\n",
      " -1.42301765  1.24335518  1.10012017] \n",
      " [-16.58018362  -9.6254276  -22.69995595   6.7100747    2.19397756\n",
      "  -6.41995966  -8.35903805  15.36425537  18.92039994] \n",
      " [-31.37774998 -28.23694911 -52.87926265  24.35951368   0.14366137\n",
      "  -0.23299092  -0.59012929   0.61912667   2.28036994]\n"
     ]
    }
   ],
   "source": [
    "print(stan_ridge_cv_model.coef_, '\\n', norm_ridge_cv_model.coef_, '\\n', norm_stan_ridge_cv_model.coef_)\n"
   ]
  },
  {
   "cell_type": "markdown",
   "id": "d9b34383",
   "metadata": {},
   "source": [
    "LASSO REGRESSION IMPLEMENTATION (Least absolute shrinkage and selection operator)"
   ]
  },
  {
   "cell_type": "code",
   "execution_count": 12,
   "id": "7c38587b",
   "metadata": {},
   "outputs": [
    {
     "name": "stdout",
     "output_type": "stream",
     "text": [
      "0.08312753565140421 \n",
      " 0.0009705487889655561 \n",
      " 0.017384559096365677\n",
      "10.677922520982213 \n",
      " 10.715806693174294 \n",
      " 10.825817720705249\n",
      "13.453547343276643 \n",
      " 13.515588267723679 \n",
      " 13.554775281614734\n"
     ]
    }
   ],
   "source": [
    "from sklearn.linear_model import LassoCV\n",
    "\n",
    "# the smaller 'eps' is, the wider range is checked\n",
    "stan_lasso_cv_model = LassoCV(eps=0.001, n_alphas=100, cv=20, max_iter=1000000)\n",
    "norm_lasso_cv_model = LassoCV(eps=0.001, n_alphas=100, cv=20, max_iter=10000000)\n",
    "norm_stan_lasso_cv_model = LassoCV(eps=0.001, n_alphas=100, cv=20, max_iter=1000000)\n",
    "\n",
    "stan_lasso_cv_model.fit(stan_X_train, y_train)\n",
    "norm_lasso_cv_model.fit(norm_X_train, y_train)\n",
    "norm_stan_lasso_cv_model.fit(norm_stan_X_train, y_train)\n",
    "print(stan_lasso_cv_model.alpha_, '\\n', norm_lasso_cv_model.alpha_, '\\n', norm_stan_lasso_cv_model.alpha_)\n",
    "\n",
    "stan_test_predictions = stan_lasso_cv_model.predict(stan_X_test)\n",
    "norm_test_predictions = norm_lasso_cv_model.predict(norm_X_test)\n",
    "norm_stan_test_predictions = norm_stan_lasso_cv_model.predict(norm_stan_X_test)\n",
    "\n",
    "stan_MAE = mean_absolute_error(y_test, stan_test_predictions)\n",
    "norm_MAE = mean_absolute_error(y_test, norm_test_predictions)\n",
    "norm_stan_MAE = mean_absolute_error(y_test, norm_stan_test_predictions)\n",
    "print(stan_MAE, '\\n', norm_MAE, '\\n', norm_stan_MAE)\n",
    "\n",
    "stan_RMSE = np.sqrt(mean_squared_error(y_test, stan_test_predictions))\n",
    "norm_RMSE = np.sqrt(mean_squared_error(y_test, norm_test_predictions))\n",
    "norm_stan_RMSE = np.sqrt(mean_squared_error(y_test, norm_stan_test_predictions))\n",
    "print(stan_RMSE, '\\n',norm_RMSE, '\\n',norm_stan_RMSE)"
   ]
  },
  {
   "cell_type": "code",
   "execution_count": 13,
   "id": "c3f44342",
   "metadata": {},
   "outputs": [
    {
     "name": "stdout",
     "output_type": "stream",
     "text": [
      "[-3.53707232 -1.2637453  -3.78028194  0.97437334  0.         -1.23877787\n",
      " -1.06636147  1.83443776  3.58768025] \n",
      " [-11.70136361 -10.68410158 -35.36740029   7.17261084   2.98092426\n",
      "  -5.87846062 -11.86358826  15.95996643  29.10397711] \n",
      " [ -0.         -31.67663341 -53.74211121   5.69251142   0.18691702\n",
      "  -0.22442207  -0.82072799   0.57256445   2.32241761]\n"
     ]
    }
   ],
   "source": [
    "print(stan_lasso_cv_model.coef_, '\\n', norm_lasso_cv_model.coef_, '\\n', norm_stan_lasso_cv_model.coef_)"
   ]
  },
  {
   "cell_type": "markdown",
   "id": "5baf4482",
   "metadata": {},
   "source": [
    "L1 AND L2 - ELASTIC NET IMPLEMENTATION"
   ]
  },
  {
   "cell_type": "code",
   "execution_count": 14,
   "id": "ff85e58a",
   "metadata": {},
   "outputs": [],
   "source": [
    "from sklearn.linear_model import ElasticNetCV"
   ]
  },
  {
   "cell_type": "code",
   "execution_count": 15,
   "id": "20506719",
   "metadata": {},
   "outputs": [
    {
     "name": "stdout",
     "output_type": "stream",
     "text": [
      "0.7 \n",
      " 0.9 \n",
      " 1.0\n",
      "10.701186754466159 \n",
      " 10.694234140200699 \n",
      " 10.825817720705249\n",
      "13.458565885889982 \n",
      " 13.458966665874886 \n",
      " 13.554775281614734\n"
     ]
    }
   ],
   "source": [
    "# 0.1 is 10% lasso, 90% ridge\n",
    "# n_alphas is a lambda outside the bracket\n",
    "stan_elastic_net_cv_model = ElasticNetCV(l1_ratio=[.1, .5, .7,.9, .95, .99, 1], \n",
    "                                                  eps=0.001, n_alphas=100, max_iter=1000000)\n",
    "norm_elastic_net_cv_model = ElasticNetCV(l1_ratio=[.1, .5, .7,.9, .95, .99, 1], \n",
    "                                                  eps=0.001, n_alphas=100, max_iter=1000000)\n",
    "norm_stan_elastic_net_cv_model = ElasticNetCV(l1_ratio=[.1, .5, .7,.9, .95, .99, 1], \n",
    "                                                  eps=0.001, n_alphas=100, max_iter=1000000)\n",
    "\n",
    "stan_elastic_net_cv_model.fit(stan_X_train, y_train)\n",
    "norm_elastic_net_cv_model.fit(norm_X_train, y_train)\n",
    "norm_stan_elastic_net_cv_model.fit(norm_stan_X_train, y_train)\n",
    "\n",
    "print(stan_elastic_net_cv_model.l1_ratio_, '\\n',norm_elastic_net_cv_model.l1_ratio_, '\\n', norm_stan_elastic_net_cv_model.l1_ratio_)\n",
    "\n",
    "stan_test_predictions = stan_elastic_net_cv_model.predict(stan_X_test)\n",
    "norm_test_predictions = norm_elastic_net_cv_model.predict(norm_X_test)\n",
    "norm_stan_test_predictions = norm_stan_elastic_net_cv_model.predict(norm_stan_X_test)\n",
    "\n",
    "stan_MAE = mean_absolute_error(y_test, stan_test_predictions)\n",
    "norm_MAE = mean_absolute_error(y_test, norm_test_predictions)\n",
    "norm_stan_MAE = mean_absolute_error(y_test, norm_stan_test_predictions)                                                                                                             \n",
    "print(stan_MAE, '\\n', norm_MAE, '\\n', norm_stan_MAE)\n",
    "                                                      \n",
    "stan_RMSE = np.sqrt(mean_squared_error(y_test, stan_test_predictions))\n",
    "norm_RMSE = np.sqrt(mean_squared_error(y_test, norm_test_predictions))                                                          \n",
    "norm_stan_RMSE = np.sqrt(mean_squared_error(y_test, norm_stan_test_predictions))                                                                                                                                                                                                                       \n",
    "print(stan_RMSE, '\\n', norm_RMSE, '\\n', norm_stan_RMSE)"
   ]
  },
  {
   "cell_type": "markdown",
   "id": "7b27768d",
   "metadata": {},
   "source": [
    "PLOTTING THE RESULTS FOR DIFFERENT FUNCTION DEGREE"
   ]
  },
  {
   "cell_type": "code",
   "execution_count": 16,
   "id": "2e3c1ec6",
   "metadata": {},
   "outputs": [],
   "source": [
    "# Creating a loop for polynomial regression to check how our reggresion model behaves on \n",
    "# different function degree\n",
    "# I choosed to plot only elastic-net regression model with standarized and normalized data \n",
    "from sklearn.preprocessing import PolynomialFeatures\n",
    "\n",
    "elasticnet_norm_stan_train_RMSE_error = []\n",
    "elasticnet_norm_stan_test_RMSE_error = []\n",
    "\n",
    "for d in range(1,5):\n",
    "    polynomial_converter = PolynomialFeatures(degree=d, include_bias=False)\n",
    "    poly_features = polynomial_converter.fit_transform(X)\n",
    "    \n",
    "    X_train, X_test, y_train, y_test = train_test_split(poly_features, y, test_size=0.3, random_state=101)\n",
    "    \n",
    "    # create inscance of scaler\n",
    "    stan_scaler = StandardScaler()\n",
    "    norm_scaler = MinMaxScaler()\n",
    "    # fitting scaler to X_train\n",
    "    stan_scaler.fit(X_train)\n",
    "    norm_scaler.fit(X_train)\n",
    "    # creating our data:\n",
    "    # standarized features\n",
    "    stan_X_train = stan_scaler.transform(X_train)\n",
    "    stan_X_test = stan_scaler.transform(X_test)\n",
    "    # normalized features\n",
    "    norm_X_train = norm_scaler.transform(X_train)\n",
    "    norm_X_test = norm_scaler.transform(X_test)\n",
    "    # standarized and normalized features\n",
    "    norm_stan_X_train = stan_scaler.transform(norm_X_train)\n",
    "    norm_stan_X_test =stan_scaler.transform(norm_X_test)\n",
    "    \n",
    "    # ELASTIC NET REGRESSION PATH TO FIND RMSE\n",
    "    norm_stan_elastic_net_cv_model = ElasticNetCV(l1_ratio=[.1, .5, .7,.9, .95, .99, 1], \n",
    "                                                      eps=0.001, n_alphas=100, max_iter=1000000)\n",
    "\n",
    "\n",
    "    norm_stan_elastic_net_cv_model.fit(norm_stan_X_train, y_train)\n",
    "\n",
    "    norm_stan_train_predictions = norm_stan_elastic_net_cv_model.predict(norm_stan_X_train)\n",
    "    norm_stan_test_predictions = norm_stan_elastic_net_cv_model.predict(norm_stan_X_test)\n",
    "\n",
    "    elastic_norm_stan_train_RMSE = np.sqrt(mean_squared_error(y_train, norm_stan_train_predictions)) \n",
    "    elastic_norm_stan_test_RMSE = np.sqrt(mean_squared_error(y_test, norm_stan_test_predictions))\n",
    "\n",
    "    elasticnet_norm_stan_train_RMSE_error.append(elastic_norm_stan_train_RMSE)\n",
    "    elasticnet_norm_stan_test_RMSE_error.append(elastic_norm_stan_test_RMSE)"
   ]
  },
  {
   "cell_type": "code",
   "execution_count": 17,
   "id": "72d2aefb",
   "metadata": {},
   "outputs": [
    {
     "data": {
      "text/plain": [
       "<matplotlib.legend.Legend at 0x28c1e398d90>"
      ]
     },
     "execution_count": 17,
     "metadata": {},
     "output_type": "execute_result"
    },
    {
     "data": {
      "image/png": "[encoded data removed]",
      "text/plain": [
       "<Figure size 432x288 with 1 Axes>"
      ]
     },
     "metadata": {
      "needs_background": "light"
     },
     "output_type": "display_data"
    }
   ],
   "source": [
    "plt.plot(range(1, 5), elasticnet_norm_stan_train_RMSE_error[:4], label='elasticnet_norm_stan_train_RMSE_error')\n",
    "plt.plot(range(1, 5), elasticnet_norm_stan_test_RMSE_error[:4], label='elasticnet_norm_stan_test_RMSE_error')\n",
    "\n",
    "plt.xlabel('Degree_of_polynomial_regression')\n",
    "plt.ylabel('RMSE')\n",
    "plt.legend()\n",
    "# plot below looks better in comparison with nba_project.ipynb file. We can see that we do not have huge\n",
    "# leap in RMSE value in test_set. Nonetheless, the RMSE is still pretty big, taking into consideration\n",
    "# fact, that we have only 60 draft numbers."
   ]
  },
  {
   "cell_type": "markdown",
   "id": "7de4ae02",
   "metadata": {},
   "source": [
    "DEPLOYMENT OF A MODEL"
   ]
  },
  {
   "cell_type": "code",
   "execution_count": 18,
   "id": "2dba60d3",
   "metadata": {},
   "outputs": [
    {
     "data": {
      "text/plain": [
       "['reg_final_draft_prediction.joblib']"
      ]
     },
     "execution_count": 18,
     "metadata": {},
     "output_type": "execute_result"
    }
   ],
   "source": [
    "from joblib import dump, load\n",
    "final_model = norm_stan_elastic_net_cv_model\n",
    "# we want to retrain on all the data before final deployment\n",
    "final_model.fit(X,y)\n",
    "# saves the model\n",
    "dump(norm_stan_elastic_net_cv_model, 'reg_final_draft_prediction.joblib')"
   ]
  },
  {
   "cell_type": "code",
   "execution_count": 19,
   "id": "0e0a4435",
   "metadata": {},
   "outputs": [
    {
     "data": {
      "text/plain": [
       "array([-0.96429605, -1.31113036, -0.66636479,  0.21496016, -0.        ,\n",
       "       -0.        , -0.        , 22.23675136,  8.10161156])"
      ]
     },
     "execution_count": 19,
     "metadata": {},
     "output_type": "execute_result"
    }
   ],
   "source": [
    "# loading ready model \n",
    "loaded_model = load('reg_final_draft_prediction.joblib')\n",
    "\n",
    "# model coeficients:\n",
    "loaded_model.coef_"
   ]
  },
  {
   "cell_type": "code",
   "execution_count": 20,
   "id": "3ace6325",
   "metadata": {},
   "outputs": [],
   "source": [
    "# lets try to predict draft number for a player with stats like these:\n",
    "# something around Lebron James career stats:\n",
    "some_guy = [[27, 9, 7, 2.5, 0.08, 0.05, 0.3, 0.55, 0.3]]"
   ]
  },
  {
   "cell_type": "code",
   "execution_count": 21,
   "id": "7e4ad0f0",
   "metadata": {},
   "outputs": [
    {
     "data": {
      "text/plain": [
       "array([-3.69757394])"
      ]
     },
     "execution_count": 21,
     "metadata": {},
     "output_type": "execute_result"
    }
   ],
   "source": [
    "loaded_model.predict(some_guy)"
   ]
  },
  {
   "cell_type": "code",
   "execution_count": 22,
   "id": "121d26f1",
   "metadata": {},
   "outputs": [
    {
     "data": {
      "image/png": "[encoded data removed]",
      "text/plain": [
       "<Figure size 1152x432 with 3 Axes>"
      ]
     },
     "metadata": {
      "needs_background": "light"
     },
     "output_type": "display_data"
    }
   ],
   "source": [
    "# showing on plot true values and values predicted by a model\n",
    "y_hat = loaded_model.predict(X)\n",
    "\n",
    "fig,axes = plt.subplots(nrows=1,ncols=3,figsize=(16,6))\n",
    "\n",
    "axes[0].plot(drafted_players_grouped['pts'],drafted_players_grouped['draft_number'],'o')\n",
    "axes[0].plot(drafted_players_grouped['pts'],y_hat,'o',color='red')\n",
    "axes[0].set_ylabel('draft_number')\n",
    "axes[0].set_title(\"pts\")\n",
    "\n",
    "axes[1].plot(drafted_players_grouped['ts_pct'],drafted_players_grouped['draft_number'],'o')\n",
    "axes[1].plot(drafted_players_grouped['ts_pct'],y_hat,'o',color='red')\n",
    "axes[1].set_title(\"ts_pct\")\n",
    "axes[1].set_ylabel('draft_number')\n",
    "\n",
    "axes[2].plot(drafted_players_grouped['ast'],drafted_players_grouped['draft_number'],'o')\n",
    "axes[2].plot(drafted_players_grouped['ast'],y_hat,'o',color='red')\n",
    "axes[2].set_title(\"ast\");\n",
    "axes[2].set_ylabel('draft_number')\n",
    "plt.tight_layout();\n",
    "\n",
    "# red color are values predicted by a model\n",
    "# we can see that the model is not precise. We should try different approach to get the answer for \n",
    "# our main question and compare results."
   ]
  },
  {
   "cell_type": "code",
   "execution_count": null,
   "id": "86379ff8",
   "metadata": {},
   "outputs": [],
   "source": []
  }
 ],
 "metadata": {
  "kernelspec": {
   "display_name": "Python 3",
   "language": "python",
   "name": "python3"
  },
  "language_info": {
   "codemirror_mode": {
    "name": "ipython",
    "version": 3
   },
   "file_extension": ".py",
   "mimetype": "text/x-python",
   "name": "python",
   "nbconvert_exporter": "python",
   "pygments_lexer": "ipython3",
   "version": "3.8.8"
  }
 },
 "nbformat": 4,
 "nbformat_minor": 5
}
